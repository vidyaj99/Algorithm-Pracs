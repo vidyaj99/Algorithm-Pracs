{
  "nbformat": 4,
  "nbformat_minor": 0,
  "metadata": {
    "colab": {
      "name": "SubsetSum.ipynb",
      "provenance": [],
      "authorship_tag": "ABX9TyMHVSmub5CzycUWX5e1KC8y",
      "include_colab_link": true
    },
    "kernelspec": {
      "name": "python3",
      "display_name": "Python 3"
    },
    "language_info": {
      "name": "python"
    }
  },
  "cells": [
    {
      "cell_type": "markdown",
      "metadata": {
        "id": "view-in-github",
        "colab_type": "text"
      },
      "source": [
        "<a href=\"https://colab.research.google.com/github/vj2268/Algorithm-Pracs/blob/main/SubsetSum.ipynb\" target=\"_parent\"><img src=\"https://colab.research.google.com/assets/colab-badge.svg\" alt=\"Open In Colab\"/></a>"
      ]
    },
    {
      "cell_type": "code",
      "metadata": {
        "colab": {
          "base_uri": "https://localhost:8080/"
        },
        "id": "QX5YIa4z65Zt",
        "outputId": "ca9aeb5a-58cf-4f38-9d84-41c3446bf89a"
      },
      "source": [
        "# A recursive solution for subset sum \n",
        "# problem \n",
        "  \n",
        "# Returns true if there is a subset  \n",
        "# of set[] with sun equal to given sum \n",
        "def isSubsetSum(set,n, sum) : \n",
        "    \n",
        "    # Base Cases \n",
        "    if (sum == 0) : \n",
        "        return True\n",
        "    if (n == 0 and sum != 0) : \n",
        "        return False\n",
        "   \n",
        "    # If last element is greater than \n",
        "    # sum, then ignore it \n",
        "    if (set[n - 1] > sum) : \n",
        "        return isSubsetSum(set, n - 1, sum); \n",
        "   \n",
        "    # else, check if sum can be obtained \n",
        "    # by any of the following \n",
        "    # (a) including the last element \n",
        "    # (b) excluding the last element    \n",
        "    return isSubsetSum(set, n-1, sum) or isSubsetSum(set, n-1, sum-set[n-1]) \n",
        "      \n",
        "      \n",
        "# Driver program to test above function \n",
        "set = [3, 34, 4, 12, 5, 2] \n",
        "sum = 9\n",
        "n = len(set) \n",
        "if (isSubsetSum(set, n, sum) == True) : \n",
        "    print(\"Found a subset with given sum\") \n",
        "else : \n",
        "    print(\"No subset with given sum\")"
      ],
      "execution_count": 1,
      "outputs": [
        {
          "output_type": "stream",
          "name": "stdout",
          "text": [
            "Found a subset with given sum\n"
          ]
        }
      ]
    }
  ]
}