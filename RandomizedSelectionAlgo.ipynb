{
  "nbformat": 4,
  "nbformat_minor": 0,
  "metadata": {
    "colab": {
      "name": "RandomizedSelectionAlgo.ipynb",
      "provenance": [],
      "authorship_tag": "ABX9TyMPkQml7B+UOXlqz9aDU6ot",
      "include_colab_link": true
    },
    "kernelspec": {
      "name": "python3",
      "display_name": "Python 3"
    },
    "language_info": {
      "name": "python"
    }
  },
  "cells": [
    {
      "cell_type": "markdown",
      "metadata": {
        "id": "view-in-github",
        "colab_type": "text"
      },
      "source": [
        "<a href=\"https://colab.research.google.com/github/vj2268/Algorithm-Pracs/blob/main/RandomizedSelectionAlgo.ipynb\" target=\"_parent\"><img src=\"https://colab.research.google.com/assets/colab-badge.svg\" alt=\"Open In Colab\"/></a>"
      ]
    },
    {
      "cell_type": "code",
      "metadata": {
        "colab": {
          "base_uri": "https://localhost:8080/"
        },
        "id": "-ViG0NNN6QtY",
        "outputId": "05ef1a76-84cb-4372-dfbe-fb4477ec2b22"
      },
      "source": [
        "from random import randrange\n",
        "\n",
        "def partition(x, pivot_index = 0):\n",
        "    i = 0\n",
        "    if pivot_index !=0: x[0],x[pivot_index] = x[pivot_index],x[0]\n",
        "    for j in range(len(x)-1):\n",
        "        if x[j+1] < x[0]:\n",
        "            x[j+1],x[i+1] = x[i+1],x[j+1]\n",
        "            i += 1\n",
        "    x[0],x[i] = x[i],x[0]\n",
        "    return x,i\n",
        "\n",
        "def RSelect(x,k):\n",
        "    if len(x) == 1:\n",
        "        return x[0]\n",
        "    else:\n",
        "        xpart = partition(x,randrange(len(x)))\n",
        "        x = xpart[0] # partitioned array\n",
        "        j = xpart[1] # pivot index\n",
        "        if j == k:\n",
        "            return x[j]\n",
        "        elif j > k:\n",
        "            return RSelect(x[:j],k)\n",
        "        else:\n",
        "            k = k - j - 1\n",
        "            return RSelect(x[(j+1):], k)\n",
        "        \n",
        "x = [3,1,8,4,7,9]\n",
        "for i in range(len(x)):\n",
        "    print (RSelect(x,i))"
      ],
      "execution_count": 1,
      "outputs": [
        {
          "output_type": "stream",
          "name": "stdout",
          "text": [
            "1\n",
            "3\n",
            "4\n",
            "7\n",
            "8\n",
            "9\n"
          ]
        }
      ]
    }
  ]
}