{
  "nbformat": 4,
  "nbformat_minor": 0,
  "metadata": {
    "colab": {
      "name": "FloydWarshall.ipynb",
      "provenance": [],
      "authorship_tag": "ABX9TyO82Sej5lnGMtVZSzuGrqBw",
      "include_colab_link": true
    },
    "kernelspec": {
      "name": "python3",
      "display_name": "Python 3"
    },
    "language_info": {
      "name": "python"
    }
  },
  "cells": [
    {
      "cell_type": "markdown",
      "metadata": {
        "id": "view-in-github",
        "colab_type": "text"
      },
      "source": [
        "<a href=\"https://colab.research.google.com/github/vj2268/Algorithm-Pracs/blob/main/FloydWarshall.ipynb\" target=\"_parent\"><img src=\"https://colab.research.google.com/assets/colab-badge.svg\" alt=\"Open In Colab\"/></a>"
      ]
    },
    {
      "cell_type": "code",
      "metadata": {
        "colab": {
          "base_uri": "https://localhost:8080/"
        },
        "id": "bDqAK4XJ4mPK",
        "outputId": "aa29281d-1ad2-4c38-eae9-20d9e081dae7"
      },
      "source": [
        "# Python Program for Floyd Warshall Algorithm\n",
        "\n",
        "# Number of vertices in the graph\n",
        "V = 4\n",
        "\n",
        "# Define infinity as the large\n",
        "# enough value. This value will be\n",
        "# used for vertices not connected to each other\n",
        "INF = 99999\n",
        "\n",
        "# Solves all pair shortest path\n",
        "# via Floyd Warshall Algorithm\n",
        "\n",
        "def floydWarshall(graph):\n",
        "\t\n",
        "      \"\"\" dist[][] will be the output\n",
        "      matrix that will finally\n",
        "        have the shortest distances\n",
        "        between every pair of vertices \"\"\"\n",
        "      \"\"\" initializing the solution matrix\n",
        "      same as input graph matrix\n",
        "      OR we can say that the initial\n",
        "      values of shortest distances\n",
        "      are based on shortest paths considering no\n",
        "      intermediate vertices \"\"\"\n",
        "\n",
        "      dist = list(map(lambda i: list(map(lambda j: j, i)), graph))\n",
        " \n",
        "      \"\"\" Add all vertices one by one\n",
        "      to the set of intermediate\n",
        "      vertices.\n",
        "      ---> Before start of an iteration,\n",
        "      we have shortest distances\n",
        "      between all pairs of vertices\n",
        "      such that the shortest\n",
        "      distances consider only the\n",
        "      vertices in the set\n",
        "      {0, 1, 2, .. k-1} as intermediate vertices.\n",
        "      ----> After the end of a\n",
        "      iteration, vertex no. k is\n",
        "      added to the set of intermediate\n",
        "      vertices and the\n",
        "      set becomes {0, 1, 2, .. k}\n",
        "      \"\"\"\n",
        "      for k in range(V):\n",
        "\n",
        "        # pick all vertices as source one by one\n",
        "        for i in range(V):\n",
        "\n",
        "          # Pick all vertices as destination for the\n",
        "          # above picked source\n",
        "          for j in range(V):\n",
        "\n",
        "            # If vertex k is on the shortest path from\n",
        "            # i to j, then update the value of dist[i][j]\n",
        "            dist[i][j] = min(dist[i][j],\n",
        "                    dist[i][k] + dist[k][j]\n",
        "                    )\n",
        "      printSolution(dist)\n",
        "# A utility function to print the solution\n",
        "def printSolution(dist):\n",
        "\tprint (\"Following matrix shows the shortest distances between every pair of vertices\")\n",
        "\tfor i in range(V):\n",
        "\t\tfor j in range(V):\n",
        "\t\t\tif(dist[i][j] == INF):\n",
        "\t\t\t\tprint (\"%7s\" % (\"INF\")),\n",
        "\t\t\telse:\n",
        "\t\t\t\tprint (\"%7d\\t\" % (dist[i][j])),\n",
        "\t\t\tif j == V-1:\n",
        "\t\t\t\tprint (\"\")\n",
        "\n",
        "\n",
        "# Driver program to test the above program\n",
        "# Let us create the following weighted graph\n",
        "\"\"\"\n",
        "\t\t\t10\n",
        "\t(0)------->(3)\n",
        "\t\t|\t\t /|\\\n",
        "\t5 |\t\t |\n",
        "\t\t|\t\t | 1\n",
        "\t\\|/\t\t |\n",
        "\t(1)------->(2)\n",
        "\t\t3\t\t \"\"\"\n",
        "graph = [[0, 5, INF, 10],\n",
        "\t\t          [INF, 0, 3, INF],\n",
        "\t            [INF, INF, 0, 1],\n",
        "\t            [INF, INF, INF, 0]\n",
        "\t\t          ]\n",
        "# Print the solution\n",
        "floydWarshall(graph)\n",
        "# This code is contributed by Mythri J L"
      ],
      "execution_count": 3,
      "outputs": [
        {
          "output_type": "stream",
          "name": "stdout",
          "text": [
            "Following matrix shows the shortest distances between every pair of vertices\n",
            "      0\t\n",
            "      5\t\n",
            "      8\t\n",
            "      9\t\n",
            "\n",
            "    INF\n",
            "      0\t\n",
            "      3\t\n",
            "      4\t\n",
            "\n",
            "    INF\n",
            "    INF\n",
            "      0\t\n",
            "      1\t\n",
            "\n",
            "    INF\n",
            "    INF\n",
            "    INF\n",
            "      0\t\n",
            "\n"
          ]
        }
      ]
    }
  ]
}