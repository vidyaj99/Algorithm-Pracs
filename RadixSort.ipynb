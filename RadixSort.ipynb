{
  "nbformat": 4,
  "nbformat_minor": 0,
  "metadata": {
    "colab": {
      "name": "RadixSort.ipynb",
      "provenance": [],
      "authorship_tag": "ABX9TyPwx3ebVwfqfbiS/jXiGlyp",
      "include_colab_link": true
    },
    "kernelspec": {
      "name": "python3",
      "display_name": "Python 3"
    },
    "language_info": {
      "name": "python"
    }
  },
  "cells": [
    {
      "cell_type": "markdown",
      "metadata": {
        "id": "view-in-github",
        "colab_type": "text"
      },
      "source": [
        "<a href=\"https://colab.research.google.com/github/vj2268/Algorithm-Pracs/blob/main/RadixSort.ipynb\" target=\"_parent\"><img src=\"https://colab.research.google.com/assets/colab-badge.svg\" alt=\"Open In Colab\"/></a>"
      ]
    },
    {
      "cell_type": "code",
      "metadata": {
        "colab": {
          "base_uri": "https://localhost:8080/"
        },
        "id": "EPcJgt2M52w9",
        "outputId": "5175d604-f112-4229-cfdf-f1474e29ee0c"
      },
      "source": [
        "#Python program for implementation of Radix Sort \n",
        "  \n",
        "# A function to do counting sort of arr[] according to \n",
        "# the digit represented by exp. \n",
        "def countingSort(arr, exp1): \n",
        "  \n",
        "    n = len(arr) \n",
        "  \n",
        "    # The output array elements that will have sorted arr \n",
        "    output = [0] * (n) \n",
        "  \n",
        "    # initialize count array as 0 \n",
        "    count = [0] * (10) \n",
        "  \n",
        "    # Store count of occurrences in count[] \n",
        "    for i in range(0, n): \n",
        "        index = (arr[i]//exp1) \n",
        "        count[ (index)%10 ] += 1\n",
        "  \n",
        "    # Change count[i] so that count[i] now contains actual \n",
        "    #  position of this digit in output array \n",
        "    for i in range(1,10): \n",
        "        count[i] += count[i-1] \n",
        "  \n",
        "    # Build the output array \n",
        "    i = n-1\n",
        "    while i>=0: \n",
        "        index = (arr[i]//exp1) \n",
        "        output[ count[ (index)%10 ] - 1] = arr[i] \n",
        "        count[ (index)%10 ] -= 1\n",
        "        i -= 1\n",
        "    # Copying the output array to arr[], \n",
        "    # so that arr now contains sorted numbers \n",
        "    i = 0\n",
        "    for i in range(0,len(arr)): \n",
        "        arr[i] = output[i] \n",
        "  \n",
        "# Method to do Radix Sort \n",
        "def radixSort(arr): \n",
        "  \n",
        "    # Find the maximum number to know number of digits \n",
        "    max1 = max(arr) \n",
        "  \n",
        "    # Do counting sort for every digit. Note that instead \n",
        "    # of passing digit number, exp is passed. exp is 10^i \n",
        "    # where i is current digit number \n",
        "    exp = 1\n",
        "    while max1//exp > 0: \n",
        "        countingSort(arr,exp) \n",
        "        exp *= 10\n",
        "  \n",
        "# Driver code to test above \n",
        "arr = [ 170, 45, 75, 90, 802, 24, 2, 66] \n",
        "radixSort(arr) \n",
        "  \n",
        "for i in range(len(arr)): \n",
        "    print(arr[i]),"
      ],
      "execution_count": 1,
      "outputs": [
        {
          "output_type": "stream",
          "name": "stdout",
          "text": [
            "2\n",
            "24\n",
            "45\n",
            "66\n",
            "75\n",
            "90\n",
            "170\n",
            "802\n"
          ]
        }
      ]
    }
  ]
}