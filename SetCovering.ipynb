{
  "nbformat": 4,
  "nbformat_minor": 0,
  "metadata": {
    "colab": {
      "name": "SetCovering.ipynb",
      "provenance": [],
      "authorship_tag": "ABX9TyMvXCwoqQtKjN/ZwUqT62Qz",
      "include_colab_link": true
    },
    "kernelspec": {
      "name": "python3",
      "display_name": "Python 3"
    },
    "language_info": {
      "name": "python"
    }
  },
  "cells": [
    {
      "cell_type": "markdown",
      "metadata": {
        "id": "view-in-github",
        "colab_type": "text"
      },
      "source": [
        "<a href=\"https://colab.research.google.com/github/vj2268/Algorithm-Pracs/blob/main/SetCovering.ipynb\" target=\"_parent\"><img src=\"https://colab.research.google.com/assets/colab-badge.svg\" alt=\"Open In Colab\"/></a>"
      ]
    },
    {
      "cell_type": "code",
      "metadata": {
        "colab": {
          "base_uri": "https://localhost:8080/"
        },
        "id": "r0o3YoQi6oQ9",
        "outputId": "87c45d53-feab-48a0-e528-410900500a88"
      },
      "source": [
        "def set_cover(universe, subsets):\n",
        "    \"\"\"Find a family of subsets that covers the universal set\"\"\"\n",
        "    elements = set(e for s in subsets for e in s)\n",
        "    # Check the subsets cover the universe\n",
        "    if elements != universe:\n",
        "        return None\n",
        "    covered = set()\n",
        "    cover = []\n",
        "    # Greedily add the subsets with the most uncovered points\n",
        "    while covered != elements:\n",
        "        subset = max(subsets, key=lambda s: len(s - covered))\n",
        "        cover.append(subset)\n",
        "        covered |= subset\n",
        " \n",
        "    return cover\n",
        " \n",
        "def main():\n",
        "    universe = set(range(1, 11))\n",
        "    subsets = [set([1, 2, 3, 8, 9, 10]),\n",
        "        set([1, 2, 3, 4, 5]),\n",
        "        set([4, 5, 7]),\n",
        "        set([5, 6, 7]),\n",
        "        set([6, 7, 8, 9, 10])]\n",
        "    cover = set_cover(universe, subsets)\n",
        "    print(cover)\n",
        " \n",
        "if __name__ == '__main__':\n",
        "    main()"
      ],
      "execution_count": 1,
      "outputs": [
        {
          "output_type": "stream",
          "name": "stdout",
          "text": [
            "[{1, 2, 3, 8, 9, 10}, {4, 5, 7}, {5, 6, 7}]\n"
          ]
        }
      ]
    }
  ]
}