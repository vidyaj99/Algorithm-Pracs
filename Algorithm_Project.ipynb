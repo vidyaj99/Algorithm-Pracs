{
  "nbformat": 4,
  "nbformat_minor": 0,
  "metadata": {
    "colab": {
      "name": "AlgoProject.ipynb",
      "provenance": [],
      "include_colab_link": true
    },
    "kernelspec": {
      "name": "python3",
      "display_name": "Python 3"
    },
    "language_info": {
      "name": "python"
    }
  },
  "cells": [
    {
      "cell_type": "markdown",
      "metadata": {
        "id": "view-in-github",
        "colab_type": "text"
      },
      "source": [
        "<a href=\"https://colab.research.google.com/github/vj2268/Algorithm-Pracs/blob/main/Algorithm_Project.ipynb\" target=\"_parent\"><img src=\"https://colab.research.google.com/assets/colab-badge.svg\" alt=\"Open In Colab\"/></a>"
      ]
    },
    {
      "cell_type": "code",
      "execution_count": 1,
      "metadata": {
        "colab": {
          "base_uri": "https://localhost:8080/"
        },
        "id": "JYtH9DHfveVu",
        "outputId": "8b232fb5-926e-41ce-f97b-c84e5100ab1d"
      },
      "outputs": [
        {
          "output_type": "stream",
          "name": "stdout",
          "text": [
            "How many elements are in list : 7\n",
            "-5\n",
            "2\n",
            "7\n",
            "4\n",
            "-3\n",
            "1\n",
            "8\n",
            "Maximum SubArray is: 19\n",
            "Start index of max_Sum: 1\n",
            "End index of max_Sum: 6\n"
          ]
        }
      ],
      "source": [
        "def MaxSubArray(MyList):\n",
        "  max_sum = 0\n",
        "  current_sum = 0\n",
        "\n",
        "  max_start = 0\n",
        "  max_end = 0\n",
        "  current_start = 0\n",
        "  current_end = 0\n",
        "\n",
        "  for i in range(len(MyList)): \n",
        "    current_sum = current_sum + MyList[i]\n",
        "    current_end = i\n",
        "    if current_sum < 0:\n",
        "      current_sum = 0\n",
        "      # Start a new sequence from next element\n",
        "      current_start = current_end + 1\n",
        "\n",
        "    if max_sum < current_sum:\n",
        "      max_sum = current_sum\n",
        "      max_start = current_start\n",
        "      max_end = current_end\n",
        "      \n",
        "  print(\"Maximum SubArray is:\", max_sum)\n",
        "  print(\"Start index of max_Sum:\", max_start)\n",
        "  print(\"End index of max_Sum:\", max_end)\n",
        "  \n",
        "# test the code                \n",
        "MyList = [int(input()) for i in range(int(input(\"How many elements are in list : \")))]\n",
        "MaxSubArray(MyList)"
      ]
    },
    {
      "cell_type": "code",
      "source": [
        "def mergeSort(array):\n",
        "    if len(array) > 1:\n",
        "\n",
        "        #  r is the point where the array is divided into two subarrays\n",
        "        r = len(array)//2\n",
        "        L = array[:r]\n",
        "        M = array[r:]\n",
        "\n",
        "        # Sort the two halves\n",
        "        mergeSort(L)\n",
        "        mergeSort(M)\n",
        "\n",
        "        i = j = k = 0\n",
        "\n",
        "        # Until we reach either end of either L or M, pick larger among\n",
        "        # elements L and M and place them in the correct position at A[p..r]\n",
        "        while i < len(L) and j < len(M):\n",
        "            if L[i] < M[j]:\n",
        "                array[k] = L[i]\n",
        "                i += 1\n",
        "            else:\n",
        "                array[k] = M[j]\n",
        "                j += 1\n",
        "            k += 1\n",
        "\n",
        "        # When we run out of elements in either L or M,\n",
        "        # pick up the remaining elements and put in A[p..r]\n",
        "        while i < len(L):\n",
        "            array[k] = L[i]\n",
        "            i += 1\n",
        "            k += 1\n",
        "\n",
        "        while j < len(M):\n",
        "            array[k] = M[j]\n",
        "            j += 1\n",
        "            k += 1\n",
        "\n",
        "\n",
        "# Print the array\n",
        "def printList(array):\n",
        "    for i in range(len(array)):\n",
        "        print(array[i], end=\" \")\n",
        "    print()\n",
        "\n",
        "\n",
        "# Driver program\n",
        "if __name__ == '__main__':\n",
        "    array = [int(input()) for i in range(int(input(\"How many elements are in list : \")))]\n",
        "\n",
        "    mergeSort(array)\n",
        "\n",
        "    print(\"Sorted array is: \")\n",
        "    printList(array)"
      ],
      "metadata": {
        "colab": {
          "base_uri": "https://localhost:8080/"
        },
        "id": "unSv09I148e_",
        "outputId": "db622cb9-29d2-4f48-9bea-1468db679d0a"
      },
      "execution_count": 2,
      "outputs": [
        {
          "output_type": "stream",
          "name": "stdout",
          "text": [
            "How many elements are in list : 10\n",
            "5\n",
            "7\n",
            "2\n",
            "8\n",
            "4\n",
            "6\n",
            "10\n",
            "3\n",
            "9\n",
            "1\n",
            "Sorted array is: \n",
            "1 2 3 4 5 6 7 8 9 10 \n"
          ]
        }
      ]
    }
  ]
}